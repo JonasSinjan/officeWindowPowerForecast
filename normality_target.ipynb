{
 "cells": [
  {
   "cell_type": "markdown",
   "metadata": {},
   "source": [
    "## Normality of the Target\n",
    "\n",
    "- Shapiro-Wilk or Kolmogorov-Smirnov test\n",
    "- test whether the target variable (ie Spotprice) is normally distributed\n",
    "- could impact the suitability of parametric models (linear regression)"
   ]
  },
  {
   "cell_type": "markdown",
   "metadata": {},
   "source": []
  }
 ],
 "metadata": {
  "language_info": {
   "name": "python"
  }
 },
 "nbformat": 4,
 "nbformat_minor": 2
}
