{
 "cells": [
  {
   "cell_type": "markdown",
   "metadata": {},
   "source": [
    "## Spearman Rank Correlation/Mutial Information Test\n",
    "\n",
    "-  to test for monotonic or nonlinear relationships between target and input features\n",
    "-  if strong values, suitable models might be SVR with non linear kernels, or Tree-based models (Random Forest, Gradient Boosting etc.)"
   ]
  },
  {
   "cell_type": "markdown",
   "metadata": {},
   "source": []
  }
 ],
 "metadata": {
  "language_info": {
   "name": "python"
  }
 },
 "nbformat": 4,
 "nbformat_minor": 2
}
